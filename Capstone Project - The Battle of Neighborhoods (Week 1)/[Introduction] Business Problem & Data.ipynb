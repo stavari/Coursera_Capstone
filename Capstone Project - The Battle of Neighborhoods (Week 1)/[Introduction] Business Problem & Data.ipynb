{
 "cells": [
  {
   "cell_type": "markdown",
   "metadata": {},
   "source": [
    "# Capstone Project - The Battle of the Neighborhoods"
   ]
  },
  {
   "cell_type": "markdown",
   "metadata": {},
   "source": [
    "\n",
    "\n",
    "\n",
    "# Introduction: Business Problem"
   ]
  },
  {
   "cell_type": "markdown",
   "metadata": {},
   "source": [
    "This report will be targeted to stakeholders interested in opening a <b>Greek restaurant in London, UK</b>. \n",
    "\n",
    "The goal of our project is dual:\n",
    "<ul>\n",
    "<li>Our <b>first goal</b> is to find out if opening a Greek restaurant in the center of London is a right choice compared to opening a restaurant of a different cuisine. Our decision will be based on analyzing the number of restaurants per cuisine.</li>\n",
    "\n",
    "<li>Our <b>second goal</b> is to find the best location to open the restaurant. The candidate locations will be calculated based on the distance from other Greek restaurants, the number of restaurants in the vicinity and finally the distance from the center of London.</li>\n",
    "<ul>"
   ]
  },
  {
   "cell_type": "markdown",
   "metadata": {},
   "source": [
    "# Data"
   ]
  },
  {
   "cell_type": "markdown",
   "metadata": {},
   "source": [
    "In this project we will mainly use Venue & Geographical data in order to reach our conclusion.\n",
    "We will use:\n",
    "<ul>\n",
    "<li><b>Google Maps API</b> to obtain the coordinates of the center of London and the coordinates of our segmented candidate areas.</li>\n",
    "<li><b>Foursquare API</b> to get information about the existing restaurants in the area. Mainly the data that will be useful to us will be location coordinates and cuisine type of every restaurant in the area.</li>\n",
    "<li> <b>skgrange.github</b> To get a JSON file containing the Borough borders of London. <a> <b><href=\"https://skgrange.github.io/www/data/london_boroughs.json\"></b>JSON File Link</a></li>\n",
    "</ul>"
   ]
  },
  {
   "cell_type": "code",
   "execution_count": null,
   "metadata": {},
   "outputs": [],
   "source": []
  }
 ],
 "metadata": {
  "kernelspec": {
   "display_name": "Python 3",
   "language": "python",
   "name": "python3"
  },
  "language_info": {
   "codemirror_mode": {
    "name": "ipython",
    "version": 3
   },
   "file_extension": ".py",
   "mimetype": "text/x-python",
   "name": "python",
   "nbconvert_exporter": "python",
   "pygments_lexer": "ipython3",
   "version": "3.8.3"
  }
 },
 "nbformat": 4,
 "nbformat_minor": 4
}
